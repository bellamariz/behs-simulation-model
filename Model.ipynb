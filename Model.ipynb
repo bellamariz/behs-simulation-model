{
 "cells": [
  {
   "cell_type": "markdown",
   "id": "a428d250",
   "metadata": {},
   "source": [
    "# Battery-less Energy Harvesting: A Simulation Model\n",
    "\n",
    "This notebook describes a Python-based simulation model for Battery-less Energy Harvesting Systems (BEHSs).\n",
    "\n",
    "# Modules\n",
    "\n",
    "### Energy Storage\n",
    "\n",
    "The **Energy Storage** module (`energy_storage.py`) defines the `EnergyStorage` class, which simulates an energy storage component for Battery-less Energy Harvesting Systems (BEHS).\n",
    "\n",
    "Its class methods include:\n",
    "\n",
    "- `charge(number)` - Adds energy to storage.\n",
    "- `discharge(amount)` - Removes energy from storage.\n",
    "- `get_energy_level` - Get currently stored energy.\n",
    "- `get_capacity` - Get maximum storage capacity."
   ]
  },
  {
   "cell_type": "code",
   "execution_count": 1,
   "id": "de67e886",
   "metadata": {},
   "outputs": [
    {
     "name": "stdout",
     "output_type": "stream",
     "text": [
      "current storage: 10\n"
     ]
    }
   ],
   "source": [
    "from src.energy_storage import EnergyStorage\n",
    "\n",
    "# Create an energy storage with a capacity of 100 units\n",
    "storage = EnergyStorage(capacity=100)\n",
    "\n",
    "# Add energy\n",
    "storage.charge(20)\n",
    "\n",
    "# Remove energy\n",
    "storage.discharge(10)\n",
    "\n",
    "# Check current energy level\n",
    "print(\"current storage: %d\" % storage.get_energy_level())"
   ]
  }
 ],
 "metadata": {
  "kernelspec": {
   "display_name": ".venv",
   "language": "python",
   "name": "python3"
  },
  "language_info": {
   "codemirror_mode": {
    "name": "ipython",
    "version": 3
   },
   "file_extension": ".py",
   "mimetype": "text/x-python",
   "name": "python",
   "nbconvert_exporter": "python",
   "pygments_lexer": "ipython3",
   "version": "3.13.4"
  }
 },
 "nbformat": 4,
 "nbformat_minor": 5
}
